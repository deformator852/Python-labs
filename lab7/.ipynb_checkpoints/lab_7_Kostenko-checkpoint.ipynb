{
 "cells": [
  {
   "cell_type": "code",
   "execution_count": null,
   "id": "84b9c71c-9465-48d8-8416-3dd9d3114d7f",
   "metadata": {},
   "outputs": [],
   "source": [
    "# Лабораторна робота №7. Словники, кортежі. Обробка винятків (empty)"
   ]
  },
  {
   "cell_type": "code",
   "execution_count": null,
   "id": "cf3f7d62-8a86-4177-bdee-c808b1fed0c1",
   "metadata": {},
   "outputs": [],
   "source": [
    "# Мета: навчитися працювати зі структурами даних Кортеж та Словник. Навчитись обробляти основні типи винятків"
   ]
  },
  {
   "cell_type": "code",
   "execution_count": null,
   "id": "4f3c691a-9f80-4bcb-b118-054b760e114d",
   "metadata": {},
   "outputs": [],
   "source": [
    "# Author: Nikita Kostenko"
   ]
  },
  {
   "cell_type": "code",
   "execution_count": null,
   "id": "6af31c26-fe40-4f25-b433-ab65e2a2ec40",
   "metadata": {},
   "outputs": [],
   "source": [
    "# Завдання №1\n",
    "numbers_list = [20, 12, 17, 1, 3, 7, 140, 18, 36]\n",
    "numbers_tuple = tuple(numbers_list)\n",
    "threshold = int(input(\"Введіть порогове число: \"))\n",
    "filtered_list = [value for value in numbers_tuple if value < threshold]\n",
    "print(f\"Число {threshold}: Менші числа - {filtered_list}\")"
   ]
  },
  {
   "cell_type": "code",
   "execution_count": null,
   "id": "52b567be-fc01-4d8c-b8cd-1ace52e7461c",
   "metadata": {},
   "outputs": [],
   "source": [
    "# Завдання №2\n",
    "fruits_tuple = (\"apple\", \"banana\", \"cherry\")\n",
    "result_string = \", \".join(fruits_tuple)\n",
    "print(f\"З'єднані слова: {result_string}\")"
   ]
  },
  {
   "cell_type": "code",
   "execution_count": null,
   "id": "263b6d72-0204-45a2-8b8b-df6f883f4bd2",
   "metadata": {},
   "outputs": [],
   "source": [
    "# Завдання №3\n",
    "book_collection = {\n",
    "        \"1984\": {\"author\": \"George Orwell\", \"year\": 1949, \"pages\": 328},\n",
    "        \"To Kill a Mockingbird\": {\"author\": \"Harper Lee\", \"year\": 1960, \"pages\": 281},\n",
    "        \"The Great Gatsby\": {\"author\": \"F. Scott Fitzgerald\", \"year\": 1925, \"pages\": 180},\n",
    "        \"War and Peace\": {\"author\": \"Leo Tolstoy\", \"year\": 1869, \"pages\": 1225},\n",
    "}\n",
    "title = input(\"Введіть назву книги для пошуку: \")\n",
    "if title in book_collection:\n",
    "    details = book_collection[title]\n",
    "    print(f\"Інформація про книгу '{title}':\")\n",
    "    print(f\"Автор: {details['author']}\")\n",
    "    print(f\"Рік видання: {details['year']}\")\n",
    "    print(f\"Кількість сторінок: {details['pages']}\")\n",
    "else:\n",
    "    print(f\"Книга '{title}' відсутня у колекції.\")"
   ]
  },
  {
   "cell_type": "code",
   "execution_count": null,
   "id": "bbaf035e-f104-435d-82fd-5d8f66822aee",
   "metadata": {},
   "outputs": [],
   "source": [
    "# Завдання №4\n",
    "student_data = {\n",
    "        \"Ivanov\": (\"Ivan\", 21, \"Computer Science\"),\n",
    "        \"Petrov\": (\"Petr\", 22, \"Mathematics\"),\n",
    "        \"Sidorov\": (\"Alex\", 20, \"Physics\"),\n",
    "        \"Kovalenko\": (\"Olga\", 23, \"Biology\"),\n",
    "}\n",
    "surname = input(\"Введіть прізвище студента для перегляду інформації: \")\n",
    "if surname in student_data:\n",
    "    info = student_data[surname]\n",
    "    print(f\"Деталі студента {surname}:\")\n",
    "    print(f\"Ім'я: {info[0]}\")\n",
    "    print(f\"Вік: {info[1]}\")\n",
    "    print(f\"Спеціальність: {info[2]}\")\n",
    "else:\n",
    "    print(f\"Студента з прізвищем '{surname}' не знайдено.\")"
   ]
  },
  {
   "cell_type": "code",
   "execution_count": null,
   "id": "00a637af-0e2a-437c-86b8-02cc5800c799",
   "metadata": {},
   "outputs": [],
   "source": [
    "# Завдання №5\n",
    "contacts = {\n",
    "        \"Shevchenko\": [\"+380671234567\", \"+380991111222\"],\n",
    "        \"Bondarenko\": [\"+380931234567\"],\n",
    "        \"Tkachenko\": [\"+380662345678\", \"+380931112233\"],\n",
    "}\n",
    "def add_number(contact, phone):\n",
    "    if contact in contacts:\n",
    "        contacts[contact].append(phone)\n",
    "        print(f\"До контакту '{contact}' додано номер {phone}.\")\n",
    "    else:\n",
    "        print(f\"Контакт '{contact}' не знайдено у телефонній книзі.\")\n",
    "\n",
    "add_number(\"Shevchenko\", \"+380501234567\")\n",
    "\n",
    "print(\"\\nОновлена телефонна книга:\")\n",
    "for person, phones in contacts.items():\n",
    "    print(f\"{person}: {', '.join(phones)}\")"
   ]
  },
  {
   "cell_type": "code",
   "execution_count": null,
   "id": "1573456e-5b36-4320-8782-1d3b792f0249",
   "metadata": {},
   "outputs": [],
   "source": [
    "# Контрольні запитання\n",
    "# 1.)2,3\n",
    "# 2.)4\n",
    "# 3.)Помилку\n",
    "# 4.){'a': 1, 'b': 2, 'c': 3, 'd': 4}f"
   ]
  }
 ],
 "metadata": {
  "kernelspec": {
   "display_name": "Python 3 (ipykernel)",
   "language": "python",
   "name": "python3"
  },
  "language_info": {
   "codemirror_mode": {
    "name": "ipython",
    "version": 3
   },
   "file_extension": ".py",
   "mimetype": "text/x-python",
   "name": "python",
   "nbconvert_exporter": "python",
   "pygments_lexer": "ipython3",
   "version": "3.13.0"
  }
 },
 "nbformat": 4,
 "nbformat_minor": 5
}
