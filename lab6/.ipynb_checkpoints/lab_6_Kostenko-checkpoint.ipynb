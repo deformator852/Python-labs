{
 "cells": [
  {
   "cell_type": "code",
   "execution_count": null,
   "id": "c9bea245-138c-46ea-bde5-3f807f932079",
   "metadata": {},
   "outputs": [],
   "source": [
    "# Лабораторна робота №6. Функції"
   ]
  },
  {
   "cell_type": "code",
   "execution_count": null,
   "id": "b2fcc03c-d5ba-40e2-872c-84a7af2f40bd",
   "metadata": {},
   "outputs": [],
   "source": [
    "# Мета: навчитися писати функції та користуватися ними"
   ]
  },
  {
   "cell_type": "code",
   "execution_count": null,
   "id": "7b3251f1-c648-4af5-ad14-ecfabecbda1b",
   "metadata": {},
   "outputs": [],
   "source": [
    "# Author: Nikita Kostenko"
   ]
  },
  {
   "cell_type": "code",
   "execution_count": null,
   "id": "fba0460e-dcbd-41db-9fb4-2ba71e3505a4",
   "metadata": {},
   "outputs": [],
   "source": [
    "# Завдання №1\n",
    "def check_leap_year(year):\n",
    "    return (year % 4 == 0 and year % 100 != 0) or (year % 400 == 0)\n",
    "\n",
    "\n",
    "data_to_test = [1800, 2020, 2012, 1999]\n",
    "expected_results = [False, True, True, False]\n",
    "for i in range(len(data_to_test)):\n",
    "    year = data_to_test[i]\n",
    "    print(f\"Checking year {year}: \", end=\"\")\n",
    "    output = check_leap_year(year)\n",
    "    if output == expected_results[i]:\n",
    "        print(\"Test passed\")\n",
    "    else:\n",
    "        print(\"Test failed\")"
   ]
  },
  {
   "cell_type": "code",
   "execution_count": null,
   "id": "778d43c7-d7a8-40de-8e08-01beae251159",
   "metadata": {},
   "outputs": [],
   "source": [
    "# Завдання №2\n",
    "def check_leap_year(year):\n",
    "    return (year % 4 == 0 and year % 100 != 0) or (year % 400 == 0)\n",
    "def days_in_given_month(year, month):\n",
    "    if not (1 <= month <= 12):\n",
    "        return None\n",
    "\n",
    "    days_in_months = [31, 28, 31, 30, 31, 30, 31, 31, 30, 31, 30, 31]\n",
    "    if month == 2 and check_leap_year(year):\n",
    "        return 29\n",
    "    return days_in_months[month - 1]\n",
    "years_test = [1800, 2020, 2008, 1995]\n",
    "months_test = [2, 2, 12, 9]\n",
    "expected_results = [28, 29, 31, 30]\n",
    "for i in range(len(years_test)):\n",
    "    year = years_test[i]\n",
    "    month = months_test[i]\n",
    "    print(f\"Year {year}, Month {month}: \", end=\"\")\n",
    "    output = days_in_given_month(year, month)\n",
    "    if output == expected_results[i]:\n",
    "        print(\"Test passed\")\n",
    "    else:\n",
    "        print(\"Test failed\")"
   ]
  },
  {
   "cell_type": "code",
   "execution_count": null,
   "id": "2d9dbffa-1dce-46f3-a8c8-2a40af2df042",
   "metadata": {},
   "outputs": [],
   "source": [
    "# Завдання №3\n",
    "def check_leap_year(year):\n",
    "    return (year % 4 == 0 and year % 100 != 0) or (year % 400 == 0)\n",
    "\n",
    "\n",
    "def days_in_given_month(year, month):\n",
    "    if not (1 <= month <= 12):\n",
    "        return None\n",
    "\n",
    "    days_in_months = [31, 28, 31, 30, 31, 30, 31, 31, 30, 31, 30, 31]\n",
    "    if month == 2 and check_leap_year(year):\n",
    "        return 29\n",
    "    return days_in_months[month - 1]\n",
    "\n",
    "\n",
    "def calculate_day_of_year(year, month, day):\n",
    "    if not (1 <= month <= 12 and 1 <= day <= days_in_given_month(year, month)):\n",
    "        return None\n",
    "\n",
    "    total_days = sum(days_in_given_month(year, m) for m in range(1, month)) + day\n",
    "    return total_days\n",
    "\n",
    "\n",
    "print(calculate_day_of_year(1992, 3, 15))\n",
    "print(calculate_day_of_year(2024, 10, 1))\n",
    "print(calculate_day_of_year(2005, 5, 20))\n",
    "print(calculate_day_of_year(2012, 12, 31))\n",
    "print(calculate_day_of_year(2000, 2, 29))\n",
    "print(calculate_day_of_year(2021, 8, 16))\n",
    "print(calculate_day_of_year(2020, 4, 31))\n",
    "print(calculate_day_of_year(2020, 0, 15))\n",
    "print(calculate_day_of_year(2020, 13, 1))"
   ]
  },
  {
   "cell_type": "code",
   "execution_count": null,
   "id": "58123fa2-9293-4d10-8712-182de950335a",
   "metadata": {},
   "outputs": [],
   "source": [
    "# Завдання №4\n",
    "def is_number_prime(num):\n",
    "    if num < 2:\n",
    "        return False\n",
    "    for i in range(2, int(num ** 0.5) + 1):\n",
    "        if num % i == 0:\n",
    "            return False\n",
    "    return True\n",
    "\n",
    "\n",
    "for i in range(1, 30):\n",
    "    if is_number_prime(i + 2):\n",
    "        print(i + 2, end=\" \")"
   ]
  },
  {
   "cell_type": "code",
   "execution_count": null,
   "id": "22d045c2-eb3b-461a-9014-7b4b63b8c235",
   "metadata": {},
   "outputs": [],
   "source": [
    "# Завдання №5\n",
    "def convert_liters_to_mpg(liters):\n",
    "    miles_in_100km = 100000 / 1609.344\n",
    "    gallons = liters / 3.785411784\n",
    "    return miles_in_100km / gallons\n",
    "\n",
    "\n",
    "def convert_mpg_to_liters(miles):\n",
    "    km_per_gallon = miles * 1.609344\n",
    "    return (100 / km_per_gallon) * 3.785411784\n",
    "\n",
    "\n",
    "print(convert_liters_to_mpg(4.2))\n",
    "print(convert_liters_to_mpg(8.0))\n",
    "print(convert_liters_to_mpg(11.0))\n",
    "print(convert_mpg_to_liters(50.5))\n",
    "print(convert_mpg_to_liters(40.0))\n",
    "print(convert_mpg_to_liters(35.7))"
   ]
  },
  {
   "cell_type": "code",
   "execution_count": null,
   "id": "0b20930d-1dc4-4a54-8bfc-a561b28ffb2f",
   "metadata": {},
   "outputs": [],
   "source": [
    "# Завдання №6\n",
    "def check_triangle(a, b, c):\n",
    "    return a + b > c and a + c > b and b + c > a\n",
    "\n",
    "\n",
    "print(check_triangle(7, 10, 12))\n",
    "print(check_triangle(2, 3, 5))\n",
    "print(check_triangle(6, 6, 6))\n",
    "print(check_triangle(15, 5, 10))\n",
    "print(check_triangle(8, 15, 17))"
   ]
  },
  {
   "cell_type": "code",
   "execution_count": null,
   "id": "a3469d4a-7941-4bab-92f9-45920a5248d5",
   "metadata": {},
   "outputs": [],
   "source": [
    "# Завдання №7\n",
    "def check_triangle(a, b, c):\n",
    "    return a + b > c and a + c > b and b + c > a\n",
    "\n",
    "\n",
    "def is_right_angle_triangle(a, b, c):\n",
    "    if not check_triangle(a, b, c):\n",
    "        return False\n",
    "\n",
    "    sides = sorted([a, b, c])\n",
    "    return sides[0] ** 2 + sides[1] ** 2 == sides[2] ** 2\n",
    "\n",
    "\n",
    "print(is_right_angle_triangle(9, 12, 15))\n",
    "print(is_right_angle_triangle(3, 4, 7))\n",
    "print(is_right_angle_triangle(8, 8, 8))\n",
    "print(is_right_angle_triangle(5, 12, 13))\n",
    "print(is_right_angle_triangle(10, 24, 26))"
   ]
  },
  {
   "cell_type": "code",
   "execution_count": null,
   "id": "591b3814-33f3-48aa-8ad8-29aadedd3c32",
   "metadata": {},
   "outputs": [],
   "source": [
    "# Контрольні запитання\n",
    "# 1.)Hello world!\n",
    "# 2.)2,1\n",
    "# 3.)2,3\n",
    "# 4.)2,2"
   ]
  }
 ],
 "metadata": {
  "kernelspec": {
   "display_name": "Python 3 (ipykernel)",
   "language": "python",
   "name": "python3"
  },
  "language_info": {
   "codemirror_mode": {
    "name": "ipython",
    "version": 3
   },
   "file_extension": ".py",
   "mimetype": "text/x-python",
   "name": "python",
   "nbconvert_exporter": "python",
   "pygments_lexer": "ipython3",
   "version": "3.13.0"
  }
 },
 "nbformat": 4,
 "nbformat_minor": 5
}
