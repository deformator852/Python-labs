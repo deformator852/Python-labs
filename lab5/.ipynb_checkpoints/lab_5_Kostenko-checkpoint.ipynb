{
 "cells": [
  {
   "cell_type": "code",
   "execution_count": null,
   "id": "7fa66af4-3252-4ead-8182-7d8db3c4ea2c",
   "metadata": {},
   "outputs": [],
   "source": [
    "# Лабораторна робота №5. Списки"
   ]
  },
  {
   "cell_type": "code",
   "execution_count": null,
   "id": "77831f51-c72a-463c-8562-0d2ca186bf7b",
   "metadata": {},
   "outputs": [],
   "source": [
    "# Мета: освоїти роботу зі списками"
   ]
  },
  {
   "cell_type": "code",
   "execution_count": null,
   "id": "ed1f5ed4-e9d9-4cdf-8465-f3741236f6ef",
   "metadata": {},
   "outputs": [],
   "source": [
    "# Author: Nikita Kostenko"
   ]
  },
  {
   "cell_type": "code",
   "execution_count": null,
   "id": "3006ebc2-fffa-4430-aad0-bd437a5172fd",
   "metadata": {},
   "outputs": [],
   "source": [
    "# Завдання №1\n",
    "hat_list = [1, 2, 3, 4, 5]\n",
    "hat_list[2] = int(input(\"Введіть нове ціле число для заміни середнього елементу списку: \"))\n",
    "hat_list.pop()\n",
    "print(\"Довжина списку після змін:\", len(hat_list))\n",
    "print(\"Оновлений список:\", hat_list)"
   ]
  },
  {
   "cell_type": "code",
   "execution_count": null,
   "id": "402a6dbc-5463-4b32-bc39-5a5d986f42f8",
   "metadata": {},
   "outputs": [],
   "source": [
    "# Завдання №2\n",
    "n = int(input(\"Введіть кількість елементів для створення списку: \"))\n",
    "arr = []\n",
    "for i in range(n):\n",
    "    element = int(input(f\"Введіть елемент номер {i + 1}: \"))\n",
    "    arr.append(element)\n",
    "n = len(arr)\n",
    "for i in range(n - 1):\n",
    "    swapped = False\n",
    "    for j in range(n - 1 - i):\n",
    "        if arr[j] > arr[j + 1]:\n",
    "            arr[j], arr[j + 1] = arr[j + 1], arr[j]\n",
    "            swapped = True\n",
    "    if not swapped:\n",
    "        break\n",
    "\n",
    "print(\"Сортування завершено. Відсортований список:\", arr)"
   ]
  },
  {
   "cell_type": "code",
   "execution_count": null,
   "id": "82e42449-bae6-455e-b8a8-5d25efaac17c",
   "metadata": {},
   "outputs": [],
   "source": [
    "# Завдання №3\n",
    "my_list = [1, 2, 4, 4, 1, 4, 2, 6, 2, 9]\n",
    "unique_list = []\n",
    "for item in my_list:\n",
    "    if item not in unique_list:\n",
    "        unique_list.append(item)\n",
    "\n",
    "print(\"Список з унікальними елементами:\", unique_list)"
   ]
  },
  {
   "cell_type": "code",
   "execution_count": null,
   "id": "49a68baa-2ec3-451c-89b3-ffb7d3cd35e4",
   "metadata": {},
   "outputs": [],
   "source": [
    "# Завдання №4\n",
    "chessboard = [[\"_\"] * 8 for _ in range(8)]\n",
    "chessboard[0][0] = \"T\"\n",
    "chessboard[0][7] = \"T\"\n",
    "chessboard[7][0] = \"T\"\n",
    "chessboard[7][7] = \"T\"\n",
    "print(\"Шахівниця:\")\n",
    "for row in chessboard:\n",
    "    print(row)"
   ]
  },
  {
   "cell_type": "code",
   "execution_count": null,
   "id": "30365958-ee28-4aca-997f-89ca20cfc2df",
   "metadata": {},
   "outputs": [],
   "source": [
    "# Контрольні запитання\n",
    "# 1.) C\n",
    "# 2.) B,C\n",
    "# 3.) []\n",
    "# 4.) A,B,C"
   ]
  }
 ],
 "metadata": {
  "kernelspec": {
   "display_name": "Python 3 (ipykernel)",
   "language": "python",
   "name": "python3"
  },
  "language_info": {
   "codemirror_mode": {
    "name": "ipython",
    "version": 3
   },
   "file_extension": ".py",
   "mimetype": "text/x-python",
   "name": "python",
   "nbconvert_exporter": "python",
   "pygments_lexer": "ipython3",
   "version": "3.13.0"
  }
 },
 "nbformat": 4,
 "nbformat_minor": 5
}
