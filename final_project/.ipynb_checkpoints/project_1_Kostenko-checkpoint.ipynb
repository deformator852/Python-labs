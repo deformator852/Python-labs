{
 "cells": [
  {
   "cell_type": "code",
   "execution_count": null,
   "id": "683278ba-0f43-483c-a8ab-8efd6f400eee",
   "metadata": {},
   "outputs": [],
   "source": [
    "# Фінальний проєкт І"
   ]
  },
  {
   "cell_type": "code",
   "execution_count": null,
   "id": "728947f4-ec6e-44b5-9d7c-64ba5694d092",
   "metadata": {},
   "outputs": [],
   "source": [
    "# Мета: вдосконалення навичок у використанні Python для розв’язання складних завдань;інтеграція методів програмування в одну програму, що складається з багатьох різних елементів.\n"
   ]
  },
  {
   "cell_type": "code",
   "execution_count": null,
   "id": "1396e9f1-cd23-4af6-9905-870540d074ef",
   "metadata": {},
   "outputs": [],
   "source": [
    "# Author: Nikita Kostenko"
   ]
  },
  {
   "cell_type": "code",
   "execution_count": null,
   "id": "5afea04d-c70f-4ab6-ab8d-015a319574d1",
   "metadata": {},
   "outputs": [
    {
     "name": "stdout",
     "output_type": "stream",
     "text": [
      "+-------+-------+-------+\n",
      "|       |       |       |\n",
      "|   1   |   2   |   3   |\n",
      "|       |       |       |\n",
      "+-------+-------+-------+\n",
      "|       |       |       |\n",
      "|   4   |   C   |   6   |\n",
      "|       |       |       |\n",
      "+-------+-------+-------+\n",
      "|       |       |       |\n",
      "|   7   |   8   |   9   |\n",
      "|       |       |       |\n",
      "+-------+-------+-------+\n"
     ]
    }
   ],
   "source": [
    "# Завдання:\n",
    "from random import randint\n",
    "\n",
    "\n",
    "def show_grid(grid):\n",
    "    border = \"+-------+-------+-------+\"\n",
    "    for row in grid:\n",
    "        print(border)\n",
    "        print(\"|       |       |       |\")\n",
    "        print(\"|   \" + \"   |   \".join(row) + \"   |\")\n",
    "        print(\"|       |       |       |\")\n",
    "    print(border)\n",
    "\n",
    "\n",
    "def player_turn(grid):\n",
    "    while True:\n",
    "        user_input = input(\"Введіть номер клітинки (1-9): \")\n",
    "        if user_input.isdigit() and 1 <= int(user_input) <= 9:\n",
    "            r, c = divmod(int(user_input) - 1, 3)\n",
    "            if grid[r][c] not in ['P', 'C']:\n",
    "                grid[r][c] = 'P'\n",
    "                break\n",
    "            else:\n",
    "                print(\"Ця клітинка вже зайнята, оберіть іншу.\")\n",
    "        else:\n",
    "            print(\"Некоректний ввод. Введіть число від 1 до 9.\")\n",
    "\n",
    "\n",
    "def available_cells(grid):\n",
    "    return [(r, c) for r in range(3) for c in range(3) if grid[r][c] not in ['P', 'C']]\n",
    "\n",
    "\n",
    "def check_winner(grid, symbol):\n",
    "    winning_patterns = [\n",
    "        [(0, 0), (0, 1), (0, 2)],\n",
    "        [(1, 0), (1, 1), (1, 2)],\n",
    "        [(2, 0), (2, 1), (2, 2)],\n",
    "        [(0, 0), (1, 0), (2, 0)],\n",
    "        [(0, 1), (1, 1), (2, 1)],\n",
    "        [(0, 2), (1, 2), (2, 2)],\n",
    "        [(0, 0), (1, 1), (2, 2)],\n",
    "        [(0, 2), (1, 1), (2, 0)],\n",
    "    ]\n",
    "    return any(all(grid[r][c] == symbol for r, c in pattern) for pattern in winning_patterns)\n",
    "\n",
    "\n",
    "def computer_turn(grid):\n",
    "    free_positions = available_cells(grid)\n",
    "    if free_positions:\n",
    "        r, c = free_positions[randint(0, len(free_positions) - 1)]\n",
    "        grid[r][c] = 'C'\n",
    "\n",
    "\n",
    "def game():\n",
    "    grid = [\n",
    "        ['1', '2', '3'],\n",
    "        ['4', 'C', '6'],\n",
    "        ['7', '8', '9']\n",
    "    ]\n",
    "\n",
    "    show_grid(grid)\n",
    "\n",
    "    while True:\n",
    "        player_turn(grid)\n",
    "        show_grid(grid)\n",
    "        if check_winner(grid, 'P'):\n",
    "            print(\"Вітаємо! Ви перемогли!\")\n",
    "            break\n",
    "        if not available_cells(grid):\n",
    "            print(\"Гра завершена. Нічия!\")\n",
    "            break\n",
    "\n",
    "        print(\"Хід комп'ютера...\")\n",
    "        computer_turn(grid)\n",
    "        show_grid(grid)\n",
    "        if check_winner(grid, 'C'):\n",
    "            print(\"Комп'ютер переміг! Спробуйте ще раз.\")\n",
    "            break\n",
    "        if not available_cells(grid):\n",
    "            print(\"Гра завершена. Нічия!\")\n",
    "            break\n",
    "\n",
    "game()"
   ]
  },
  {
   "cell_type": "code",
   "execution_count": null,
   "id": "10645990-9f64-4b7c-aa05-9b8baecdbe45",
   "metadata": {},
   "outputs": [],
   "source": []
  }
 ],
 "metadata": {
  "kernelspec": {
   "display_name": "Python 3 (ipykernel)",
   "language": "python",
   "name": "python3"
  },
  "language_info": {
   "codemirror_mode": {
    "name": "ipython",
    "version": 3
   },
   "file_extension": ".py",
   "mimetype": "text/x-python",
   "name": "python",
   "nbconvert_exporter": "python",
   "pygments_lexer": "ipython3",
   "version": "3.13.0"
  }
 },
 "nbformat": 4,
 "nbformat_minor": 5
}
