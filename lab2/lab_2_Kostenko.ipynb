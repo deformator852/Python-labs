{
 "cells": [
  {
   "cell_type": "code",
   "execution_count": null,
   "id": "2b76d40f-ba55-46e0-88c8-334ccfcc875c",
   "metadata": {},
   "outputs": [],
   "source": [
    "# Лабораторна робота №2. Функція print()"
   ]
  },
  {
   "cell_type": "code",
   "execution_count": null,
   "id": "63b0a195-b3ef-4c48-a507-b9d05e7bff7a",
   "metadata": {},
   "outputs": [],
   "source": [
    "# Author: Nikita Kostenko"
   ]
  },
  {
   "cell_type": "code",
   "execution_count": null,
   "id": "314322f6-37c9-4c4e-90fb-3d48c8440385",
   "metadata": {},
   "outputs": [],
   "source": [
    "# Мета: навчитися писати і запускати найпростіші програми на Python з використанням функції print()"
   ]
  },
  {
   "cell_type": "code",
   "execution_count": null,
   "id": "35453b94-88db-4e4c-979e-b094afb7d66f",
   "metadata": {},
   "outputs": [],
   "source": [
    "# Завдання №1\n",
    "print(\"Programming Essentials in\")\n",
    "print(\"Python\")"
   ]
  },
  {
   "cell_type": "code",
   "execution_count": null,
   "id": "45e7b9cb-1f67-4374-bed2-b8fbeb291934",
   "metadata": {},
   "outputs": [],
   "source": [
    "# Завдання №2\n",
    "print(\"\"\"\n",
    "            *\n",
    "           * *\n",
    "          *   *\n",
    "         *     *\n",
    "        *       *\n",
    "       *         *\n",
    "      *           *\n",
    "     *             *\n",
    "    * * *       * * *\n",
    "        *       *\n",
    "        *       *\n",
    "        * * * * *\n",
    "\"\"\")"
   ]
  },
  {
   "cell_type": "code",
   "execution_count": null,
   "id": "fc3e5462-d31e-4b8c-9320-92cd2c9265b3",
   "metadata": {},
   "outputs": [],
   "source": [
    "# Завдання №3\n",
    "print(\"I'm student\")"
   ]
  },
  {
   "cell_type": "code",
   "execution_count": null,
   "id": "08602330-e65b-43ad-8658-22ffe346ea75",
   "metadata": {},
   "outputs": [],
   "source": [
    "# Завдання №4\n",
    "print(\"\\\"I'm student\\\"\")\n",
    "print(\"\\\"\\\"learning\\\"\\\"\")\n",
    "print(\"\\\"\\\"\\\"Python\\\"\\\"\\\"\")"
   ]
  },
  {
   "cell_type": "code",
   "execution_count": null,
   "id": "b5846e9e-fa03-412b-bb68-8b601c21db3a",
   "metadata": {},
   "outputs": [],
   "source": [
    "# Завдання №5\n",
    "number = \"500\"\n",
    "print(int(number, 8))"
   ]
  },
  {
   "cell_type": "code",
   "execution_count": null,
   "id": "2d4f9229-481c-47a9-b8b8-6c056305cea9",
   "metadata": {},
   "outputs": [],
   "source": [
    "# Завдання №6\n",
    "number = \"777\"\n",
    "print(int(number, 16))"
   ]
  },
  {
   "cell_type": "code",
   "execution_count": null,
   "id": "83a3f9cc-28a7-4d2f-a0cd-4a5cbf8efc62",
   "metadata": {},
   "outputs": [],
   "source": [
    "# Контрольні запитання\n",
    "# 2.)Записати на Python обчислення виразу \n",
    "print(3**(3**4))\n",
    "# 3.)Що робить escape-символ при виводі на екран функцією print()?\n",
    "# Вказує на спец символи."
   ]
  },
  {
   "cell_type": "code",
   "execution_count": null,
   "id": "30e82888-2e88-4076-9bdb-7f5ce93c5c3f",
   "metadata": {},
   "outputs": [],
   "source": []
  },
  {
   "cell_type": "code",
   "execution_count": null,
   "id": "f2a9e5b3-cacc-4f4f-bc73-ce9a39da207d",
   "metadata": {},
   "outputs": [],
   "source": []
  }
 ],
 "metadata": {
  "kernelspec": {
   "display_name": "Python 3 (ipykernel)",
   "language": "python",
   "name": "python3"
  },
  "language_info": {
   "codemirror_mode": {
    "name": "ipython",
    "version": 3
   },
   "file_extension": ".py",
   "mimetype": "text/x-python",
   "name": "python",
   "nbconvert_exporter": "python",
   "pygments_lexer": "ipython3",
   "version": "3.13.0"
  }
 },
 "nbformat": 4,
 "nbformat_minor": 5
}
