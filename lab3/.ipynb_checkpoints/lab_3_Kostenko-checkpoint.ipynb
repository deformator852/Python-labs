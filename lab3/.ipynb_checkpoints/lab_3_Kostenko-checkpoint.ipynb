{
 "cells": [
  {
   "cell_type": "code",
   "execution_count": null,
   "id": "fa58dff3-06b2-4b18-a2c6-2bf5113eda6a",
   "metadata": {},
   "outputs": [],
   "source": [
    "# Лабораторна робота №3. Змінні. Базові операції вводу/виводу"
   ]
  },
  {
   "cell_type": "code",
   "execution_count": 1,
   "id": "b2fafbdf-7418-4f1e-8025-4c5890480eac",
   "metadata": {},
   "outputs": [],
   "source": [
    "# Мета: освоїти роботу зі змінними та операції вводу і виводу"
   ]
  },
  {
   "cell_type": "code",
   "execution_count": 2,
   "id": "f77f213b-5fdb-43f0-8124-ff47d772274b",
   "metadata": {},
   "outputs": [],
   "source": [
    "# Author: Nikita Kostenko"
   ]
  },
  {
   "cell_type": "code",
   "execution_count": 5,
   "id": "5a2d996f-f1ad-45d4-8a47-12298e25473c",
   "metadata": {},
   "outputs": [],
   "source": [
    "import math\n",
    "def gauss_function(x, mu, sigma):\n",
    "    coefficient = 1 / (sigma * math.sqrt(2 * math.pi))\n",
    "    exponent = -0.5 * ((x - mu) / sigma) ** 2\n",
    "    return coefficient * math.exp(exponent)"
   ]
  },
  {
   "cell_type": "code",
   "execution_count": 6,
   "id": "ad316062-a0d8-454c-936b-a2abcda34072",
   "metadata": {},
   "outputs": [
    {
     "name": "stdin",
     "output_type": "stream",
     "text": [
      "Введіть значення x для обчислення Гаусової функції:  1\n",
      "Введіть значення середнього (mu):  4\n",
      "Введіть стандартне відхилення (sigma):  5\n"
     ]
    },
    {
     "name": "stdout",
     "output_type": "stream",
     "text": [
      "Значення Гаусової функції: 0.06664492057835994\n"
     ]
    }
   ],
   "source": [
    "# Завдання № 1\n",
    "x = float(input(\"Введіть значення x для обчислення Гаусової функції: \"))\n",
    "mu = float(input(\"Введіть значення середнього (mu): \"))\n",
    "sigma = float(input(\"Введіть стандартне відхилення (sigma): \"))\n",
    "result = gauss_function(x, mu, sigma)\n",
    "print(f\"Значення Гаусової функції: {result}\")"
   ]
  },
  {
   "cell_type": "code",
   "execution_count": null,
   "id": "35d73003-8334-4cdd-9fca-40cc26071cba",
   "metadata": {},
   "outputs": [],
   "source": [
    "# Завдання № 2\n",
    "apples = {\"John\": 3, \"Mary\": 5, \"Adam\": 6}\n",
    "for name, count in apples.items():\n",
    "    print(f\"{name} має {count} яблук\", end=\", \")\n",
    "total_apples = sum(apples.values())\n",
    "print(f\"\\nЗагальна кількість яблук: {total_apples}\")"
   ]
  },
  {
   "cell_type": "code",
   "execution_count": null,
   "id": "55f8e6e9-3740-41c9-97b4-bbcd0c802490",
   "metadata": {},
   "outputs": [],
   "source": [
    "# Завдання № 3\n",
    "kilometers = 12.25\n",
    "miles = 7.38\n",
    "kilometers_in_miles = miles * 1.61\n",
    "miles_in_kilometers = kilometers / 1.61\n",
    "print(f\"{miles} миль = {round(kilometers_in_miles, 2)} кілометрів\")\n",
    "print(f\"{kilometers} кілометрів = {round(miles_in_kilometers, 2)} миль\")"
   ]
  },
  {
   "cell_type": "code",
   "execution_count": null,
   "id": "5b4e003c-2abf-46c5-8c5e-92429071b8f0",
   "metadata": {},
   "outputs": [],
   "source": [
    "# Завдання № 4\n",
    "x = -1\n",
    "result = 3 * (x ** 3) - 2 * (x ** 2) + 3 ** x - 1\n",
    "print(f\"Рішення рівняння: {result}\")"
   ]
  },
  {
   "cell_type": "code",
   "execution_count": null,
   "id": "d4b3301a-4545-4a22-87fd-5ecc7c864996",
   "metadata": {},
   "outputs": [],
   "source": [
    "# Завдання № 5\n",
    "hours = 2\n",
    "seconds_in_hour = 3600\n",
    "print(f\"Кількість годин: {hours}\")\n",
    "print(f\"У {hours} годинах {hours * seconds_in_hour} секунд\")"
   ]
  },
  {
   "cell_type": "code",
   "execution_count": null,
   "id": "8a42ef1a-2240-43cc-b8f3-d80dc07f48ff",
   "metadata": {},
   "outputs": [],
   "source": [
    "# Завдання № 6\n",
    "a = float(input(\"Введіть перше число (a): \"))\n",
    "b = float(input(\"Введіть друге число (b): \"))\n",
    "print(f\"Сума чисел: {a + b}\")\n",
    "print(f\"Різниця чисел: {a - b}\")\n",
    "print(f\"Добуток чисел: {a * b}\")\n",
    "if b != 0:\n",
    "    print(f\"Частка чисел: {a / b}\")\n",
    "else:\n",
    "    print(\"Помилка: неможливо поділити на нуль!\")"
   ]
  },
  {
   "cell_type": "code",
   "execution_count": null,
   "id": "5fe311d1-e7b7-4a0a-8fcf-20ebded7f413",
   "metadata": {},
   "outputs": [],
   "source": [
    "# Завдання № 7\n",
    "x = float(input(\"Введіть значення x для обчислення виразу: \"))\n",
    "y = 1 / (x + 1 / (x + 1 / (x + 1 / (x + 1 / (x + 1 / x)))))\n",
    "print(f\"Результат обчислення виразу: {y}\")"
   ]
  },
  {
   "cell_type": "code",
   "execution_count": 7,
   "id": "f751fa7f-1b53-4891-8bfd-0f5004ea0343",
   "metadata": {},
   "outputs": [
    {
     "name": "stdin",
     "output_type": "stream",
     "text": [
      "Введіть години початкового часу:  12\n",
      "Введіть хвилини початкового часу:  17\n",
      "Введіть тривалість події (в хвилинах):  59\n"
     ]
    },
    {
     "name": "stdout",
     "output_type": "stream",
     "text": [
      "Час після події: 13:16\n"
     ]
    }
   ],
   "source": [
    "# Завдання № 8\n",
    "hour = int(input(\"Введіть години початкового часу: \"))\n",
    "mins = int(input(\"Введіть хвилини початкового часу: \"))\n",
    "duration = int(input(\"Введіть тривалість події (в хвилинах): \"))\n",
    "total_minutes = mins + duration\n",
    "new_minutes = total_minutes % 60\n",
    "extra_hours = total_minutes // 60\n",
    "new_hour = (hour + extra_hours) % 24\n",
    "print(f\"Час після події: {new_hour}:{new_minutes:02d}\")"
   ]
  },
  {
   "cell_type": "code",
   "execution_count": null,
   "id": "733a626d-4504-4f2b-acf8-051b4a500083",
   "metadata": {},
   "outputs": [],
   "source": [
    "# Контрольні запитання\n",
    "# 1.)55\n",
    "# 2.)str"
   ]
  }
 ],
 "metadata": {
  "kernelspec": {
   "display_name": "Python 3 (ipykernel)",
   "language": "python",
   "name": "python3"
  },
  "language_info": {
   "codemirror_mode": {
    "name": "ipython",
    "version": 3
   },
   "file_extension": ".py",
   "mimetype": "text/x-python",
   "name": "python",
   "nbconvert_exporter": "python",
   "pygments_lexer": "ipython3",
   "version": "3.13.0"
  }
 },
 "nbformat": 4,
 "nbformat_minor": 5
}
